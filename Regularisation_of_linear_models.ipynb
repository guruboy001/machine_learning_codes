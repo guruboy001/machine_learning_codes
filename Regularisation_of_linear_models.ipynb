{
  "nbformat": 4,
  "nbformat_minor": 0,
  "metadata": {
    "colab": {
      "name": "Regularisation of linear models.ipynb",
      "provenance": [],
      "collapsed_sections": [],
      "authorship_tag": "ABX9TyPSINxOaFX5adxcQ9xXLhNM",
      "include_colab_link": true
    },
    "kernelspec": {
      "name": "python3",
      "display_name": "Python 3"
    }
  },
  "cells": [
    {
      "cell_type": "markdown",
      "metadata": {
        "id": "view-in-github",
        "colab_type": "text"
      },
      "source": [
        "<a href=\"https://colab.research.google.com/github/guruboy001/machine_learning_codes/blob/master/Regularisation_of_linear_models.ipynb\" target=\"_parent\"><img src=\"https://colab.research.google.com/assets/colab-badge.svg\" alt=\"Open In Colab\"/></a>"
      ]
    },
    {
      "cell_type": "markdown",
      "metadata": {
        "id": "CtOJU9zMvNhI",
        "colab_type": "text"
      },
      "source": [
        "In this notebook I will be going through the various means of constraining the weights of linear models. \n",
        "Please note regularisation is used when our model have a high variance, i.e it has overfitted the training data. It simplifies the model and flattens the it, Thereby increasing it's bias. Regularisation is good as it makes a model with high variance perform better on the training set.\n",
        "\n",
        "\n",
        "\n",
        "\n",
        "**credit**- Aurelien Geron (Hands on machine learning with scikit-learn, keras and tensorflow)"
      ]
    },
    {
      "cell_type": "code",
      "metadata": {
        "id": "eYPCUHiUvK8-",
        "colab_type": "code",
        "colab": {}
      },
      "source": [
        ""
      ],
      "execution_count": 0,
      "outputs": []
    },
    {
      "cell_type": "markdown",
      "metadata": {
        "id": "DLygODvGwCer",
        "colab_type": "text"
      },
      "source": [
        "#Ridge Regression\n",
        "\n",
        "In ridge regression the hyperparameter alhpa controls how the model is regularised. A high value of alpha gives a model with weights very close to zero. This result in flat line going through the data's mean. Ridge regression adds the regularisation term to the cost function.\n",
        "\n",
        "It can be implemented in sklearn by simply  importing the Ridge class from sklearn.linear_model.\n",
        "The formular of ridge regression in a close form loop is \n",
        "*\n",
        "\n",
        "```\n",
        "# np.pinv(X.T.dot(X) + alpha*A).dot(X.T.dot(y))*.\n",
        "```\n",
        "where A is the (n+1) x (n+1) identity matrix, except with a 0 at the top-left cell corresponding to the bias term.\n",
        "\n",
        "\n",
        "\n",
        "```\n",
        "# This is formatted as code\n",
        "```\n",
        "\n",
        "\n",
        "\n",
        " "
      ]
    },
    {
      "cell_type": "code",
      "metadata": {
        "id": "kKKdO-FvwNhD",
        "colab_type": "code",
        "colab": {}
      },
      "source": [
        "from sklearn.linear_model import Ridge "
      ],
      "execution_count": 0,
      "outputs": []
    },
    {
      "cell_type": "markdown",
      "metadata": {
        "id": "zCpSpZI10lEi",
        "colab_type": "text"
      },
      "source": [
        "Lets generate some random inputs with numpy"
      ]
    },
    {
      "cell_type": "code",
      "metadata": {
        "id": "LSVwpGaU0cW-",
        "colab_type": "code",
        "colab": {}
      },
      "source": [
        "import numpy as np\n",
        "import pandas as pd\n",
        "\n",
        "x = 2 * np.random.rand(100,1)\n",
        "y = 4 + 3 *x + np.random.rand(100,1)"
      ],
      "execution_count": 0,
      "outputs": []
    },
    {
      "cell_type": "markdown",
      "metadata": {
        "id": "Cx8w3jLk1gJN",
        "colab_type": "text"
      },
      "source": [
        "Lets add bias to the x values"
      ]
    },
    {
      "cell_type": "code",
      "metadata": {
        "id": "WNPyl1j3034A",
        "colab_type": "code",
        "colab": {}
      },
      "source": [
        "X = np.c_[np.ones((100,1)),x]"
      ],
      "execution_count": 0,
      "outputs": []
    },
    {
      "cell_type": "code",
      "metadata": {
        "id": "H2xC0Ooa045I",
        "colab_type": "code",
        "outputId": "c333485f-adbd-4a89-b82b-3e90bc00a8b2",
        "colab": {
          "base_uri": "https://localhost:8080/",
          "height": 88
        }
      },
      "source": [
        "X[1:5]"
      ],
      "execution_count": 4,
      "outputs": [
        {
          "output_type": "execute_result",
          "data": {
            "text/plain": [
              "array([[1.        , 1.12420849],\n",
              "       [1.        , 0.52587783],\n",
              "       [1.        , 1.65967328],\n",
              "       [1.        , 1.72801047]])"
            ]
          },
          "metadata": {
            "tags": []
          },
          "execution_count": 4
        }
      ]
    },
    {
      "cell_type": "markdown",
      "metadata": {
        "id": "5FgEINrR2jEi",
        "colab_type": "text"
      },
      "source": [
        "Now lets fit our regularisation model"
      ]
    },
    {
      "cell_type": "code",
      "metadata": {
        "id": "mUJkp3FC15kg",
        "colab_type": "code",
        "outputId": "365dc772-b9f9-415f-919e-158ba207f6f6",
        "colab": {
          "base_uri": "https://localhost:8080/",
          "height": 52
        }
      },
      "source": [
        "linear_ridge_regression = Ridge(alpha=1.0,solver='cholesky')\n",
        "linear_ridge_regression.fit(X,y)"
      ],
      "execution_count": 5,
      "outputs": [
        {
          "output_type": "execute_result",
          "data": {
            "text/plain": [
              "Ridge(alpha=1.0, copy_X=True, fit_intercept=True, max_iter=None,\n",
              "      normalize=False, random_state=None, solver='cholesky', tol=0.001)"
            ]
          },
          "metadata": {
            "tags": []
          },
          "execution_count": 5
        }
      ]
    },
    {
      "cell_type": "markdown",
      "metadata": {
        "id": "z9Mg4qGq3LKC",
        "colab_type": "text"
      },
      "source": [
        "now lets plot and see what the line looks like. Please note we need to create a new variable to plot our model over a uniform space"
      ]
    },
    {
      "cell_type": "code",
      "metadata": {
        "id": "9JewtNUT35f3",
        "colab_type": "code",
        "outputId": "5577734d-33df-4a90-94d8-5785838741a2",
        "colab": {
          "base_uri": "https://localhost:8080/",
          "height": 283
        }
      },
      "source": [
        "import matplotlib.pyplot as plt\n",
        "plt.plot(x,y,\"b.\")"
      ],
      "execution_count": 6,
      "outputs": [
        {
          "output_type": "execute_result",
          "data": {
            "text/plain": [
              "[<matplotlib.lines.Line2D at 0x7f734da0ada0>]"
            ]
          },
          "metadata": {
            "tags": []
          },
          "execution_count": 6
        },
        {
          "output_type": "display_data",
          "data": {
            "image/png": "[encoded data removed]",
            "text/plain": [
              "<Figure size 432x288 with 1 Axes>"
            ]
          },
          "metadata": {
            "tags": []
          }
        }
      ]
    },
    {
      "cell_type": "code",
      "metadata": {
        "id": "UqZZo9i63DnC",
        "colab_type": "code",
        "colab": {}
      },
      "source": [
        "X_new = np.linspace(0,2,100,).reshape(100,1)\n",
        "X_ = np.c_[np.ones((100,1)),X_new]"
      ],
      "execution_count": 0,
      "outputs": []
    },
    {
      "cell_type": "code",
      "metadata": {
        "id": "GSzvJVjT3jgR",
        "colab_type": "code",
        "colab": {}
      },
      "source": [
        "y_new = linear_ridge_regression.predict(X_)"
      ],
      "execution_count": 0,
      "outputs": []
    },
    {
      "cell_type": "code",
      "metadata": {
        "id": "53L4uwZn3pYn",
        "colab_type": "code",
        "outputId": "01506ae1-225d-4a18-e1b6-1b2291b33010",
        "colab": {
          "base_uri": "https://localhost:8080/",
          "height": 283
        }
      },
      "source": [
        "plt.plot(x,y,\"b.\")\n",
        "plt.plot(X_new,y_new,\"r-\",linewidth=3)"
      ],
      "execution_count": 9,
      "outputs": [
        {
          "output_type": "execute_result",
          "data": {
            "text/plain": [
              "[<matplotlib.lines.Line2D at 0x7f734da1c6d8>]"
            ]
          },
          "metadata": {
            "tags": []
          },
          "execution_count": 9
        },
        {
          "output_type": "display_data",
          "data": {
            "image/png": "[encoded data removed]",
            "text/plain": [
              "<Figure size 432x288 with 1 Axes>"
            ]
          },
          "metadata": {
            "tags": []
          }
        }
      ]
    },
    {
      "cell_type": "markdown",
      "metadata": {
        "id": "N-itjMSp6JaP",
        "colab_type": "text"
      },
      "source": [
        "Lets try this with various values of alpha"
      ]
    },
    {
      "cell_type": "code",
      "metadata": {
        "id": "8EGZyNoS40_r",
        "colab_type": "code",
        "colab": {}
      },
      "source": [
        "def plot_alpha(alpha,x,y):\n",
        "    X=np.linspace(0,2,100)\n",
        "    X_data = np.c_[np.ones((100,1)),x]\n",
        "    X_ = np.c_[np.ones((100,1)),X]\n",
        "    color = [\"k-\",\"r-\",\"y-\",\"b-\"]\n",
        "    for i in alpha:\n",
        "        lin_reg = Ridge(alpha=i,solver=\"cholesky\")\n",
        "        lin_reg.fit(X_data,y)\n",
        "        y_new = lin_reg.predict(X_)\n",
        "        plt.plot(x,y,\"b.\",)\n",
        "        plt.plot(X,y_new,color[alpha.index(i)],label=i,linewidth=5)\n",
        "        plt.legend()\n",
        "        "
      ],
      "execution_count": 0,
      "outputs": []
    },
    {
      "cell_type": "code",
      "metadata": {
        "id": "Znuvag4O7qN9",
        "colab_type": "code",
        "outputId": "0f423700-b6cc-43d8-bb1b-7a96709475e8",
        "colab": {
          "base_uri": "https://localhost:8080/",
          "height": 265
        }
      },
      "source": [
        "alpha = [0.1,1,10,100]\n",
        "plot_alpha(alpha,x,y)"
      ],
      "execution_count": 11,
      "outputs": [
        {
          "output_type": "display_data",
          "data": {
            "image/png": "[encoded data removed]",
            "text/plain": [
              "<Figure size 432x288 with 1 Axes>"
            ]
          },
          "metadata": {
            "tags": []
          }
        }
      ]
    },
    {
      "cell_type": "markdown",
      "metadata": {
        "id": "2_7vEfZw_APY",
        "colab_type": "text"
      },
      "source": [
        "As we can see from the plot as the value of alpha gets higher the slope gets flatter. "
      ]
    },
    {
      "cell_type": "markdown",
      "metadata": {
        "id": "NsP6bULu_kXg",
        "colab_type": "text"
      },
      "source": [
        "Ridge regressor can also be realised by setting the penalty of SGDRegrssor to \"l2\".\n",
        "as shown below "
      ]
    },
    {
      "cell_type": "code",
      "metadata": {
        "id": "GS7NWzHM706C",
        "colab_type": "code",
        "colab": {}
      },
      "source": [
        "from sklearn.linear_model import SGDRegressor\n",
        "def plot_sgd_alpha(alpha,x,y):\n",
        "    X=np.linspace(0,2,100)\n",
        "    X_data = np.c_[np.ones((100,1)),x]\n",
        "    X_ = np.c_[np.ones((100,1)),X]\n",
        "    color = [\"k-\",\"r-\",\"y-\",\"x-\"]\n",
        "    for i in alpha:\n",
        "        sgd_reg = SGDRegressor(penalty=\"l2\")\n",
        "        sgd_reg.fit(X_data,y.ravel())\n",
        "        y_new = sgd_reg.predict(X_)\n",
        "        plt.plot(x,y,\"b.\",)\n",
        "        plt.plot(X,y_new,color[alpha.index(i)],label=i,linewidth=5)\n",
        "        plt.legend()\n",
        "        "
      ],
      "execution_count": 0,
      "outputs": []
    },
    {
      "cell_type": "code",
      "metadata": {
        "id": "I0u4PZ3bAX_q",
        "colab_type": "code",
        "outputId": "ed7071b7-7208-430e-b6c1-a4b50db86bc6",
        "colab": {
          "base_uri": "https://localhost:8080/",
          "height": 265
        }
      },
      "source": [
        "plot_sgd_alpha(alpha,x,y)"
      ],
      "execution_count": 13,
      "outputs": [
        {
          "output_type": "display_data",
          "data": {
            "image/png": "[encoded data removed]",
            "text/plain": [
              "<Figure size 432x288 with 1 Axes>"
            ]
          },
          "metadata": {
            "tags": []
          }
        }
      ]
    },
    {
      "cell_type": "code",
      "metadata": {
        "id": "nGcUMxV2BJ0d",
        "colab_type": "code",
        "colab": {}
      },
      "source": [
        " "
      ],
      "execution_count": 0,
      "outputs": []
    },
    {
      "cell_type": "markdown",
      "metadata": {
        "id": "zYlKnacGO52p",
        "colab_type": "text"
      },
      "source": [
        "#Lasso Regression\n",
        "(Least Absolute Shrinkage and Selection Operator Regression)\n",
        "J(theta) = MSE(theta) + alpha*sum(from i to n of absolute(theta[i])).\n",
        "\n",
        "The important feature of Lasso regression is that it eliminates the weigth of the least important features. It performs feature selection and outputs a sparse model with the weights of the least important features equal or almost equal to zero\n"
      ]
    },
    {
      "cell_type": "code",
      "metadata": {
        "id": "N_Q4wC6XPD3H",
        "colab_type": "code",
        "colab": {}
      },
      "source": [
        "from sklearn.linear_model import Lasso\n"
      ],
      "execution_count": 0,
      "outputs": []
    },
    {
      "cell_type": "code",
      "metadata": {
        "id": "w3paun6nRuso",
        "colab_type": "code",
        "colab": {}
      },
      "source": [
        "def plot_alpha_lasso(alpha,x,y):\n",
        "    X=np.linspace(0,2,100)\n",
        "    X_data = np.c_[np.ones((100,1)),x]\n",
        "    X_ = np.c_[np.ones((100,1)),X]\n",
        "    color = [\"k-\",\"r-\",\"y-\",\"b-\"]\n",
        "    for i in alpha:\n",
        "        lasso_reg = Lasso(alpha=i,random_state=42)\n",
        "        lasso_reg.fit(X_data,y)\n",
        "        y_new = lasso_reg.predict(X_)\n",
        "        plt.plot(x,y,\"b.\",)\n",
        "        plt.plot(X,y_new,color[alpha.index(i)],label=i,linewidth=5)\n",
        "        plt.legend()\n",
        "        "
      ],
      "execution_count": 0,
      "outputs": []
    },
    {
      "cell_type": "code",
      "metadata": {
        "id": "hVCGTjhOWjCf",
        "colab_type": "code",
        "colab": {
          "base_uri": "https://localhost:8080/",
          "height": 392
        },
        "outputId": "150345a2-e638-40d5-f443-4861a1fc72cb"
      },
      "source": [
        "alpha = [0,0.1,1,5]\n",
        "plot_alpha_lasso(alpha,x,y)\n"
      ],
      "execution_count": 26,
      "outputs": [
        {
          "output_type": "stream",
          "text": [
            "/usr/local/lib/python3.6/dist-packages/ipykernel_launcher.py:8: UserWarning: With alpha=0, this algorithm does not converge well. You are advised to use the LinearRegression estimator\n",
            "  \n",
            "/usr/local/lib/python3.6/dist-packages/sklearn/linear_model/_coordinate_descent.py:476: UserWarning: Coordinate descent with no regularization may lead to unexpected results and is discouraged.\n",
            "  positive)\n",
            "/usr/local/lib/python3.6/dist-packages/sklearn/linear_model/_coordinate_descent.py:476: ConvergenceWarning: Objective did not converge. You might want to increase the number of iterations. Duality gap: 4.000478005282545, tolerance: 0.025752459109052155\n",
            "  positive)\n"
          ],
          "name": "stderr"
        },
        {
          "output_type": "display_data",
          "data": {
            "image/png": "[encoded data removed]",
            "text/plain": [
              "<Figure size 432x288 with 1 Axes>"
            ]
          },
          "metadata": {
            "tags": []
          }
        }
      ]
    },
    {
      "cell_type": "markdown",
      "metadata": {
        "id": "Ryt4Hppcln5U",
        "colab_type": "text"
      },
      "source": [
        "It's calculated using the l1 norm. Let's try it with SGDRegressor using penalty of l1"
      ]
    },
    {
      "cell_type": "code",
      "metadata": {
        "id": "8zXdza20Wqnd",
        "colab_type": "code",
        "colab": {}
      },
      "source": [
        "def plot_sgd_lasso_alpha(alpha,x,y):\n",
        "    X=np.linspace(0,2,100)\n",
        "    X_data = np.c_[np.ones((100,1)),x]\n",
        "    X_ = np.c_[np.ones((100,1)),X]\n",
        "    color = [\"k-\",\"r-\",\"y-\",\"x-\"]\n",
        "    for i in alpha:\n",
        "        sgd_reg = SGDRegressor(penalty=\"l1\")\n",
        "        sgd_reg.fit(X_data,y.ravel())\n",
        "        y_new = sgd_reg.predict(X_)\n",
        "        plt.plot(x,y,\"b.\",)\n",
        "        plt.plot(X,y_new,color[alpha.index(i)],label=i,linewidth=5)\n",
        "        plt.legend()"
      ],
      "execution_count": 0,
      "outputs": []
    },
    {
      "cell_type": "code",
      "metadata": {
        "id": "hxrTf3POm_Vj",
        "colab_type": "code",
        "colab": {
          "base_uri": "https://localhost:8080/",
          "height": 265
        },
        "outputId": "9f904a4c-f7a6-4faf-c500-f1c97dbb6968"
      },
      "source": [
        "alpha = [0.0001,0.01,10,1000]\n",
        "plot_sgd_lasso_alpha(alpha,x,y)"
      ],
      "execution_count": 31,
      "outputs": [
        {
          "output_type": "display_data",
          "data": {
            "image/png": "[encoded data removed]",
            "text/plain": [
              "<Figure size 432x288 with 1 Axes>"
            ]
          },
          "metadata": {
            "tags": []
          }
        }
      ]
    },
    {
      "cell_type": "code",
      "metadata": {
        "id": "bRIlh5EInFl4",
        "colab_type": "code",
        "colab": {}
      },
      "source": [
        ""
      ],
      "execution_count": 0,
      "outputs": []
    },
    {
      "cell_type": "markdown",
      "metadata": {
        "id": "X-z2yCn3naTC",
        "colab_type": "text"
      },
      "source": [
        "#Elastic Net\n",
        "\n",
        "This is a mixture between the ridge regression and the lasso regression with their mix ratio of r, if r = 0, we have a purely Ridge regression and if r=1, we get a purely lasso regression.\n",
        "\n",
        "It's cost function can be written as follows:\n",
        "\n",
        "J(theta) = MSE(theta) + r*alpha*sum(from i to n of theta[i] + (1-r)/2 * alpha * sum(from i to n of theta[i]**2 \n",
        "\n",
        "Here is simple implementation on sklearn"
      ]
    },
    {
      "cell_type": "code",
      "metadata": {
        "id": "IwuzNmb2nfk8",
        "colab_type": "code",
        "colab": {}
      },
      "source": [
        "from sklearn.linear_model import ElasticNet\n",
        "def plot_alpha_elastic(alpha,x,y):\n",
        "    X=np.linspace(0,2,100)\n",
        "    X_data = np.c_[np.ones((100,1)),x]\n",
        "    X_ = np.c_[np.ones((100,1)),X]\n",
        "    color = [\"k-\",\"r-\",\"y-\",\"b-\"]\n",
        "    for i in alpha:\n",
        "        elastic_reg = ElasticNet(alpha=i,l1_ratio=0.5,random_state=42) # l1_ration refers to the ratio of the ridge to the lasso mix(mix ratio)\n",
        "        elastic_reg.fit(X_data,y)\n",
        "        y_new = elastic_reg.predict(X_)\n",
        "        plt.plot(x,y,\"b.\",)\n",
        "        plt.plot(X,y_new,color[alpha.index(i)],label=i,linewidth=5)\n",
        "        plt.legend()\n",
        "        "
      ],
      "execution_count": 0,
      "outputs": []
    },
    {
      "cell_type": "code",
      "metadata": {
        "id": "dHkILHgvp9Ty",
        "colab_type": "code",
        "colab": {
          "base_uri": "https://localhost:8080/",
          "height": 392
        },
        "outputId": "4a4d5ae8-617e-41dd-fef5-abaca05fe741"
      },
      "source": [
        "alpha = [0,0.1,1,5]\n",
        "plot_alpha_elastic(alpha,x,y)\n"
      ],
      "execution_count": 34,
      "outputs": [
        {
          "output_type": "stream",
          "text": [
            "/usr/local/lib/python3.6/dist-packages/ipykernel_launcher.py:9: UserWarning: With alpha=0, this algorithm does not converge well. You are advised to use the LinearRegression estimator\n",
            "  if __name__ == '__main__':\n",
            "/usr/local/lib/python3.6/dist-packages/sklearn/linear_model/_coordinate_descent.py:476: UserWarning: Coordinate descent with no regularization may lead to unexpected results and is discouraged.\n",
            "  positive)\n",
            "/usr/local/lib/python3.6/dist-packages/sklearn/linear_model/_coordinate_descent.py:476: ConvergenceWarning: Objective did not converge. You might want to increase the number of iterations. Duality gap: 4.000478005282545, tolerance: 0.025752459109052155\n",
            "  positive)\n"
          ],
          "name": "stderr"
        },
        {
          "output_type": "display_data",
          "data": {
            "image/png": "[encoded data removed]",
            "text/plain": [
              "<Figure size 432x288 with 1 Axes>"
            ]
          },
          "metadata": {
            "tags": []
          }
        }
      ]
    },
    {
      "cell_type": "code",
      "metadata": {
        "id": "mgzV0j6lqBO-",
        "colab_type": "code",
        "colab": {}
      },
      "source": [
        ""
      ],
      "execution_count": 0,
      "outputs": []
    },
    {
      "cell_type": "markdown",
      "metadata": {
        "id": "2Y-8Y0JVqI4d",
        "colab_type": "text"
      },
      "source": [
        "As we come to conclusion, While deciding which of the regularisation model to use. The default is the Ridge regularisation but if too many uneccessary features, then lasso regularisation will be an option.\n",
        "However Lasso regularisation maybe too erratic in elimination of features especially in situation when there are more features than the training instances, or a situation of strongly correlated features. In such case the Elastic Net is prefered"
      ]
    },
    {
      "cell_type": "code",
      "metadata": {
        "id": "CBeQov3nsnHB",
        "colab_type": "code",
        "colab": {}
      },
      "source": [
        ""
      ],
      "execution_count": 0,
      "outputs": []
    }
  ]
}